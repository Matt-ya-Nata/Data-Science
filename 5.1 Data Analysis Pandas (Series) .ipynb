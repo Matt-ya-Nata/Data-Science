{
 "cells": [
  {
   "cell_type": "markdown",
   "id": "96376c61-8c5a-4940-91fa-dc84a28b4eeb",
   "metadata": {},
   "source": [
    "# Pandas"
   ]
  },
  {
   "cell_type": "markdown",
   "id": "97f3bb15-2d4b-4051-aca5-5057837f37c7",
   "metadata": {},
   "source": [
    "### Introduction to Pandas"
   ]
  },
  {
   "cell_type": "markdown",
   "id": "17fad1ab-e738-4aad-8dd8-7ed1d65c738e",
   "metadata": {},
   "source": [
    "Pandas is an open source library built on top of Numpy.It allows for fast analysis and data cleaning and preparation. It excels in performance and productivity. It also has built-in visaulisation features. It can work with data from a variety of sources. It can be thought of as python's version of excel. It can be installed by using #conda install pandas or pip install pandas.\n",
    "* Series\n",
    "* DataFrames\n",
    "* Missing Data\n",
    "* GroupBy\n",
    "* Merging,Joining,and Concatenating data frames\n",
    "* Operations\n",
    "* Data Input and Output"
   ]
  },
  {
   "cell_type": "markdown",
   "id": "1288578a-2f5b-4203-9c37-283712a51d1a",
   "metadata": {},
   "source": [
    "## Series"
   ]
  },
  {
   "cell_type": "code",
   "execution_count": 24,
   "id": "94ce02f7-0702-4dac-a1ff-cb5e079acdae",
   "metadata": {},
   "outputs": [],
   "source": [
    "import numpy as np"
   ]
  },
  {
   "cell_type": "code",
   "execution_count": 28,
   "id": "5254a645-bb4d-4bc0-8521-94f08733854c",
   "metadata": {},
   "outputs": [],
   "source": [
    "import pandas as pd"
   ]
  },
  {
   "cell_type": "code",
   "execution_count": 34,
   "id": "dc7aa0c5-e0d7-4041-8e38-2b5c31fbe47f",
   "metadata": {},
   "outputs": [],
   "source": [
    "labels = ['a','b','c']\n",
    "my_data =[10,20,30]\n",
    "arr = np.array(my_data)\n",
    "d = {'a':10,'b':20,'c':30}"
   ]
  },
  {
   "cell_type": "markdown",
   "id": "6ad45962-f2b6-442d-bf72-f2d51f750186",
   "metadata": {},
   "source": [
    "Below we look at how to create a series and what it looks like"
   ]
  },
  {
   "cell_type": "code",
   "execution_count": 45,
   "id": "bac9f089-ea3d-4be0-add3-d417046e085c",
   "metadata": {},
   "outputs": [
    {
     "data": {
      "text/plain": [
       "0    10\n",
       "1    20\n",
       "2    30\n",
       "dtype: int64"
      ]
     },
     "execution_count": 45,
     "metadata": {},
     "output_type": "execute_result"
    }
   ],
   "source": [
    "pd.Series(data=my_data)"
   ]
  },
  {
   "cell_type": "markdown",
   "id": "28a7a063-6fc9-4815-bb5b-98da2e22ba01",
   "metadata": {},
   "source": [
    "* Notice that we have indexes on the left. These indexes can actually be defined to what you want them to be.\n",
    "* See below"
   ]
  },
  {
   "cell_type": "code",
   "execution_count": 50,
   "id": "83cb6ba8-756a-4d09-b3e0-295e0e073960",
   "metadata": {},
   "outputs": [
    {
     "data": {
      "text/plain": [
       "a    10\n",
       "b    20\n",
       "c    30\n",
       "dtype: int64"
      ]
     },
     "execution_count": 50,
     "metadata": {},
     "output_type": "execute_result"
    }
   ],
   "source": [
    "pd.Series(data=my_data,index=labels)"
   ]
  },
  {
   "cell_type": "code",
   "execution_count": 52,
   "id": "e04ad3dd-7e23-4fe7-88ea-588aac61939d",
   "metadata": {},
   "outputs": [
    {
     "data": {
      "text/plain": [
       "a    10\n",
       "b    20\n",
       "c    30\n",
       "dtype: int64"
      ]
     },
     "execution_count": 52,
     "metadata": {},
     "output_type": "execute_result"
    }
   ],
   "source": [
    "pd.Series(my_data,labels)"
   ]
  },
  {
   "cell_type": "markdown",
   "id": "c27199eb-1aca-41c9-ae59-38181e101af1",
   "metadata": {},
   "source": [
    "* You can also pass arrays and index the elements\n",
    "  "
   ]
  },
  {
   "cell_type": "code",
   "execution_count": 61,
   "id": "8af16aaa-1b3b-4333-a0b0-5525ea04aee6",
   "metadata": {},
   "outputs": [
    {
     "data": {
      "text/plain": [
       "0    10\n",
       "1    20\n",
       "2    30\n",
       "dtype: int32"
      ]
     },
     "execution_count": 61,
     "metadata": {},
     "output_type": "execute_result"
    }
   ],
   "source": [
    "pd.Series(arr)"
   ]
  },
  {
   "cell_type": "code",
   "execution_count": 63,
   "id": "d8509bf8-3cb9-4471-82b9-b50a732f4213",
   "metadata": {},
   "outputs": [
    {
     "data": {
      "text/plain": [
       "a    10\n",
       "b    20\n",
       "c    30\n",
       "dtype: int32"
      ]
     },
     "execution_count": 63,
     "metadata": {},
     "output_type": "execute_result"
    }
   ],
   "source": [
    "pd.Series(arr,labels)"
   ]
  },
  {
   "cell_type": "markdown",
   "id": "6290271c-d2e8-4fc1-924b-e412839ec0e4",
   "metadata": {},
   "source": [
    "* You can also pass a dictionary into a series\n",
    "* The Keys will become the indexes and the values the coressponding data point"
   ]
  },
  {
   "cell_type": "code",
   "execution_count": 67,
   "id": "8b7538cb-ad22-497a-9d26-70495387f1a7",
   "metadata": {},
   "outputs": [
    {
     "data": {
      "text/plain": [
       "a    10\n",
       "b    20\n",
       "c    30\n",
       "dtype: int64"
      ]
     },
     "execution_count": 67,
     "metadata": {},
     "output_type": "execute_result"
    }
   ],
   "source": [
    "pd.Series(d)"
   ]
  },
  {
   "cell_type": "markdown",
   "id": "663fac3a-75e4-4a83-9745-004f7bcb1191",
   "metadata": {},
   "source": [
    "A series can also also take in the labels"
   ]
  },
  {
   "cell_type": "code",
   "execution_count": 70,
   "id": "c448ce37-dff3-4d91-b0eb-33436049fe72",
   "metadata": {},
   "outputs": [
    {
     "data": {
      "text/plain": [
       "['a', 'b', 'c']"
      ]
     },
     "execution_count": 70,
     "metadata": {},
     "output_type": "execute_result"
    }
   ],
   "source": [
    "labels"
   ]
  },
  {
   "cell_type": "code",
   "execution_count": 72,
   "id": "f68bb33a-609c-48df-8e0b-d92b65328a79",
   "metadata": {},
   "outputs": [
    {
     "data": {
      "text/plain": [
       "0    a\n",
       "1    b\n",
       "2    c\n",
       "dtype: object"
      ]
     },
     "execution_count": 72,
     "metadata": {},
     "output_type": "execute_result"
    }
   ],
   "source": [
    "pd.Series(labels)"
   ]
  },
  {
   "cell_type": "markdown",
   "id": "2c387220-60b4-493f-8a95-29ceab1ef3a5",
   "metadata": {},
   "source": [
    "A series can hold almost any data object with python"
   ]
  },
  {
   "cell_type": "code",
   "execution_count": 75,
   "id": "4d272cf6-8247-4daa-90fe-77686f913946",
   "metadata": {},
   "outputs": [
    {
     "data": {
      "text/plain": [
       "0      <built-in function sum>\n",
       "1    <built-in function print>\n",
       "2      <built-in function len>\n",
       "dtype: object"
      ]
     },
     "execution_count": 75,
     "metadata": {},
     "output_type": "execute_result"
    }
   ],
   "source": [
    "pd.Series(data=[sum,print,len])"
   ]
  },
  {
   "cell_type": "markdown",
   "id": "7203f8a8-df6f-4798-9497-480ab3da0c57",
   "metadata": {},
   "source": [
    "# Using Series"
   ]
  },
  {
   "cell_type": "code",
   "execution_count": 92,
   "id": "f38246f5-fa16-48e1-9511-8fc9dffcef1e",
   "metadata": {},
   "outputs": [],
   "source": [
    "ser1 = pd.Series([1,2,3,4],['Namibia','Angola','Zambia','Zimbabwe'])"
   ]
  },
  {
   "cell_type": "code",
   "execution_count": 94,
   "id": "9dfe8d18-700b-4402-a1a2-46993139cfa6",
   "metadata": {},
   "outputs": [
    {
     "data": {
      "text/plain": [
       "Namibia     1\n",
       "Angola      2\n",
       "Zambia      3\n",
       "Zimbabwe    4\n",
       "dtype: int64"
      ]
     },
     "execution_count": 94,
     "metadata": {},
     "output_type": "execute_result"
    }
   ],
   "source": [
    "ser1"
   ]
  },
  {
   "cell_type": "markdown",
   "id": "7c935b59-0f1d-4fd4-a851-d7c266774fd3",
   "metadata": {},
   "source": [
    "Grabbing info from a series"
   ]
  },
  {
   "cell_type": "code",
   "execution_count": 101,
   "id": "a95f235c-e6cf-409d-93ee-7b292a7d84c2",
   "metadata": {},
   "outputs": [
    {
     "data": {
      "text/plain": [
       "3"
      ]
     },
     "execution_count": 101,
     "metadata": {},
     "output_type": "execute_result"
    }
   ],
   "source": [
    "ser1['Zambia']"
   ]
  },
  {
   "cell_type": "markdown",
   "id": "d56697a8-15cc-4876-8f97-410eb2072c76",
   "metadata": {},
   "source": [
    "We pass in the index which in the case above is a string into the series"
   ]
  },
  {
   "cell_type": "code",
   "execution_count": 109,
   "id": "2361e32a-0c4b-429b-914d-ee64fd8cce29",
   "metadata": {},
   "outputs": [],
   "source": [
    "ser3=pd.Series(data=labels)"
   ]
  },
  {
   "cell_type": "code",
   "execution_count": 111,
   "id": "80f6ef60-da4e-46ee-97b4-a36831ad4db5",
   "metadata": {},
   "outputs": [
    {
     "data": {
      "text/plain": [
       "0    a\n",
       "1    b\n",
       "2    c\n",
       "dtype: object"
      ]
     },
     "execution_count": 111,
     "metadata": {},
     "output_type": "execute_result"
    }
   ],
   "source": [
    "ser3"
   ]
  },
  {
   "cell_type": "code",
   "execution_count": 113,
   "id": "a8532b5a-32f9-4e28-86b1-9636c3715985",
   "metadata": {},
   "outputs": [
    {
     "data": {
      "text/plain": [
       "Namibia     1\n",
       "Angola      2\n",
       "Zambia      3\n",
       "Zimbabwe    4\n",
       "dtype: int64"
      ]
     },
     "execution_count": 113,
     "metadata": {},
     "output_type": "execute_result"
    }
   ],
   "source": [
    "ser1"
   ]
  },
  {
   "cell_type": "code",
   "execution_count": 121,
   "id": "f8a4819e-fc51-48e5-a540-8b9efae8a6d2",
   "metadata": {},
   "outputs": [],
   "source": [
    "ser2 = pd.Series([1,2,5,4],['Namibia','Angola','Botswana','Zimbabwe'] )"
   ]
  },
  {
   "cell_type": "code",
   "execution_count": 123,
   "id": "bc8feb0d-a460-4e63-86d2-8b88b4bc17a1",
   "metadata": {},
   "outputs": [
    {
     "data": {
      "text/plain": [
       "Namibia     1\n",
       "Angola      2\n",
       "Botswana    5\n",
       "Zimbabwe    4\n",
       "dtype: int64"
      ]
     },
     "execution_count": 123,
     "metadata": {},
     "output_type": "execute_result"
    }
   ],
   "source": [
    "ser2"
   ]
  },
  {
   "cell_type": "code",
   "execution_count": 125,
   "id": "58cb8211-c70a-4e48-ab75-7ce27a8e6e1d",
   "metadata": {},
   "outputs": [
    {
     "data": {
      "text/plain": [
       "Namibia     1\n",
       "Angola      2\n",
       "Zambia      3\n",
       "Zimbabwe    4\n",
       "dtype: int64"
      ]
     },
     "execution_count": 125,
     "metadata": {},
     "output_type": "execute_result"
    }
   ],
   "source": [
    "ser1"
   ]
  },
  {
   "cell_type": "code",
   "execution_count": 127,
   "id": "e5b110af-c9da-490a-b9dd-ecbaf7986df7",
   "metadata": {},
   "outputs": [
    {
     "data": {
      "text/plain": [
       "Namibia     1\n",
       "Angola      2\n",
       "Botswana    5\n",
       "Zimbabwe    4\n",
       "dtype: int64"
      ]
     },
     "execution_count": 127,
     "metadata": {},
     "output_type": "execute_result"
    }
   ],
   "source": [
    "ser2"
   ]
  },
  {
   "cell_type": "markdown",
   "id": "4365f8c8-bf55-4304-bb73-2897321f38ef",
   "metadata": {},
   "source": [
    "* For ser1+ser2\n",
    "* It will try to match the operations using the index.\n",
    "* Where a match is not found NaN will be output.\n",
    "* When performing opertions with pandas and Numpy series your integers are going to be converted into floats.\n"
   ]
  },
  {
   "cell_type": "code",
   "execution_count": 139,
   "id": "c583dc23-9678-47cf-bafc-e5f6c235da08",
   "metadata": {},
   "outputs": [
    {
     "data": {
      "text/plain": [
       "Angola      4.0\n",
       "Botswana    NaN\n",
       "Namibia     2.0\n",
       "Zambia      NaN\n",
       "Zimbabwe    8.0\n",
       "dtype: float64"
      ]
     },
     "execution_count": 139,
     "metadata": {},
     "output_type": "execute_result"
    }
   ],
   "source": [
    "ser1+ser2"
   ]
  },
  {
   "cell_type": "code",
   "execution_count": null,
   "id": "7c2d583f-05fb-4a9e-ac6f-ac13419db1d7",
   "metadata": {},
   "outputs": [],
   "source": []
  }
 ],
 "metadata": {
  "kernelspec": {
   "display_name": "Python [conda env:base] *",
   "language": "python",
   "name": "conda-base-py"
  },
  "language_info": {
   "codemirror_mode": {
    "name": "ipython",
    "version": 3
   },
   "file_extension": ".py",
   "mimetype": "text/x-python",
   "name": "python",
   "nbconvert_exporter": "python",
   "pygments_lexer": "ipython3",
   "version": "3.12.7"
  }
 },
 "nbformat": 4,
 "nbformat_minor": 5
}
