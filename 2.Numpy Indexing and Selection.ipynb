{
 "cells": [
  {
   "cell_type": "markdown",
   "id": "0167fc87-a9a7-4392-9a08-b007f35e6878",
   "metadata": {},
   "source": [
    "### Numpy Indexing and Selection"
   ]
  },
  {
   "cell_type": "code",
   "execution_count": 3,
   "id": "7bc7c536-0578-474c-a67a-56968c02b85e",
   "metadata": {},
   "outputs": [],
   "source": [
    "import numpy as np"
   ]
  },
  {
   "cell_type": "code",
   "execution_count": 7,
   "id": "c5efe0d5-17ee-4d76-a5f9-9349e388daeb",
   "metadata": {},
   "outputs": [],
   "source": [
    "arr = np.arange(0,11)"
   ]
  },
  {
   "cell_type": "code",
   "execution_count": 9,
   "id": "5032d8c0-d048-42cd-b4f8-3f8f118ab32c",
   "metadata": {},
   "outputs": [
    {
     "data": {
      "text/plain": [
       "array([ 0,  1,  2,  3,  4,  5,  6,  7,  8,  9, 10])"
      ]
     },
     "execution_count": 9,
     "metadata": {},
     "output_type": "execute_result"
    }
   ],
   "source": [
    "arr"
   ]
  },
  {
   "cell_type": "code",
   "execution_count": 13,
   "id": "df6a3114-987c-4b12-9a24-b192c2dfeaf4",
   "metadata": {},
   "outputs": [
    {
     "data": {
      "text/plain": [
       "array([1, 2, 3, 4])"
      ]
     },
     "execution_count": 13,
     "metadata": {},
     "output_type": "execute_result"
    }
   ],
   "source": [
    "arr [1:5]"
   ]
  },
  {
   "cell_type": "code",
   "execution_count": 15,
   "id": "36c5cba5-13fc-40f3-9f34-454f59d0ad44",
   "metadata": {},
   "outputs": [
    {
     "data": {
      "text/plain": [
       "array([0, 1, 2, 3, 4, 5, 6])"
      ]
     },
     "execution_count": 15,
     "metadata": {},
     "output_type": "execute_result"
    }
   ],
   "source": [
    "arr [0:7] "
   ]
  },
  {
   "cell_type": "markdown",
   "id": "0dc73aae-20de-4cbe-aac6-fa506ac17cfa",
   "metadata": {},
   "source": [
    "Getting everything in the array from the beginning to index 6"
   ]
  },
  {
   "cell_type": "code",
   "execution_count": 22,
   "id": "9fae4079-8509-4760-8f06-55fceceb389e",
   "metadata": {},
   "outputs": [
    {
     "data": {
      "text/plain": [
       "array([0, 1, 2, 3, 4, 5])"
      ]
     },
     "execution_count": 22,
     "metadata": {},
     "output_type": "execute_result"
    }
   ],
   "source": [
    "arr[:6]"
   ]
  },
  {
   "cell_type": "markdown",
   "id": "17bb06f2-48d5-4fc3-8c5e-a96d0a8c6170",
   "metadata": {},
   "source": [
    "Similary getting everything in an array from a certain index can be done by using the same slice notation"
   ]
  },
  {
   "cell_type": "code",
   "execution_count": 24,
   "id": "b906a9d7-3ab3-4a0c-9481-96acb8aa8731",
   "metadata": {},
   "outputs": [
    {
     "data": {
      "text/plain": [
       "array([ 5,  6,  7,  8,  9, 10])"
      ]
     },
     "execution_count": 24,
     "metadata": {},
     "output_type": "execute_result"
    }
   ],
   "source": [
    "arr[5:]"
   ]
  },
  {
   "cell_type": "code",
   "execution_count": 27,
   "id": "d3541ae6-fdf2-4ee4-a979-9ff856b9b699",
   "metadata": {},
   "outputs": [],
   "source": [
    "arr[0:5]=100"
   ]
  },
  {
   "cell_type": "markdown",
   "id": "9f6ea325-420f-43d5-941b-1dc14ca1c0f3",
   "metadata": {},
   "source": [
    "Braodcasting"
   ]
  },
  {
   "cell_type": "code",
   "execution_count": 29,
   "id": "68122724-885d-4e67-81ef-fe8c372c3624",
   "metadata": {},
   "outputs": [
    {
     "data": {
      "text/plain": [
       "array([100, 100, 100, 100, 100,   5,   6,   7,   8,   9,  10])"
      ]
     },
     "execution_count": 29,
     "metadata": {},
     "output_type": "execute_result"
    }
   ],
   "source": [
    "arr"
   ]
  },
  {
   "cell_type": "markdown",
   "id": "28fdfc9b-b102-45ab-8411-9a003359bfc4",
   "metadata": {},
   "source": [
    "Reseting the array"
   ]
  },
  {
   "cell_type": "code",
   "execution_count": 32,
   "id": "81dc0ecd-56de-4a8f-9e28-868dc10b92e0",
   "metadata": {},
   "outputs": [],
   "source": [
    "arr =np.arange(0,11)"
   ]
  },
  {
   "cell_type": "code",
   "execution_count": 34,
   "id": "7069aa39-8c99-4942-a6be-2c9a1f35c9a9",
   "metadata": {},
   "outputs": [
    {
     "data": {
      "text/plain": [
       "array([ 0,  1,  2,  3,  4,  5,  6,  7,  8,  9, 10])"
      ]
     },
     "execution_count": 34,
     "metadata": {},
     "output_type": "execute_result"
    }
   ],
   "source": [
    "arr"
   ]
  },
  {
   "cell_type": "code",
   "execution_count": 39,
   "id": "2cabf818-88ff-4901-a823-8e11de251a40",
   "metadata": {},
   "outputs": [],
   "source": [
    "slice_of_arr = arr [0:6]\n"
   ]
  },
  {
   "cell_type": "code",
   "execution_count": 41,
   "id": "b01c7694-d8cb-40db-9327-90b04038b6dc",
   "metadata": {},
   "outputs": [
    {
     "data": {
      "text/plain": [
       "array([0, 1, 2, 3, 4, 5])"
      ]
     },
     "execution_count": 41,
     "metadata": {},
     "output_type": "execute_result"
    }
   ],
   "source": [
    "slice_of_arr"
   ]
  },
  {
   "cell_type": "markdown",
   "id": "ab27e5f9-163e-4c10-a0c5-1dcaebb3eeaa",
   "metadata": {},
   "source": [
    "Broadcasting on the array above"
   ]
  },
  {
   "cell_type": "code",
   "execution_count": 48,
   "id": "65c8e382-700b-42a2-b086-8e98e0b9e010",
   "metadata": {},
   "outputs": [],
   "source": [
    "slice_of_arr[:] = 99"
   ]
  },
  {
   "cell_type": "code",
   "execution_count": 50,
   "id": "5bdde05f-e7d5-4b94-b6b4-cf5c2c5c6965",
   "metadata": {},
   "outputs": [
    {
     "data": {
      "text/plain": [
       "array([99, 99, 99, 99, 99, 99])"
      ]
     },
     "execution_count": 50,
     "metadata": {},
     "output_type": "execute_result"
    }
   ],
   "source": [
    "slice_of_arr"
   ]
  },
  {
   "cell_type": "code",
   "execution_count": 54,
   "id": "f1ac9c3d-685f-4f4d-b703-ae2b22525116",
   "metadata": {},
   "outputs": [
    {
     "data": {
      "text/plain": [
       "array([99, 99, 99, 99, 99, 99,  6,  7,  8,  9, 10])"
      ]
     },
     "execution_count": 54,
     "metadata": {},
     "output_type": "execute_result"
    }
   ],
   "source": [
    "arr"
   ]
  },
  {
   "cell_type": "markdown",
   "id": "9c2fe720-24a6-460f-b324-556089ffbcb7",
   "metadata": {},
   "source": [
    "Data is not copied to avoid memroy issues with large arrays copies can be made like below."
   ]
  },
  {
   "cell_type": "code",
   "execution_count": 59,
   "id": "39e0b9e9-26fc-4388-a8bd-ce150193a5c5",
   "metadata": {},
   "outputs": [],
   "source": [
    "arr_copy = arr.copy()"
   ]
  },
  {
   "cell_type": "code",
   "execution_count": 63,
   "id": "493c3717-16dc-49f0-98d0-c7f12d83407a",
   "metadata": {},
   "outputs": [],
   "source": [
    "arr_copy[:]= 100"
   ]
  },
  {
   "cell_type": "code",
   "execution_count": 65,
   "id": "1bd1ac5d-297c-405a-a7e0-12052ea72189",
   "metadata": {},
   "outputs": [
    {
     "data": {
      "text/plain": [
       "array([100, 100, 100, 100, 100, 100, 100, 100, 100, 100, 100])"
      ]
     },
     "execution_count": 65,
     "metadata": {},
     "output_type": "execute_result"
    }
   ],
   "source": [
    "arr_copy"
   ]
  },
  {
   "cell_type": "code",
   "execution_count": 67,
   "id": "9d234684-3406-468c-9ddc-8cd1d81ac1b3",
   "metadata": {},
   "outputs": [
    {
     "data": {
      "text/plain": [
       "array([99, 99, 99, 99, 99, 99,  6,  7,  8,  9, 10])"
      ]
     },
     "execution_count": 67,
     "metadata": {},
     "output_type": "execute_result"
    }
   ],
   "source": [
    "arr"
   ]
  },
  {
   "cell_type": "markdown",
   "id": "ff0cbf7c-8615-40d1-a8ec-d2b640e536b6",
   "metadata": {},
   "source": [
    "So if you look up broadcasting the copy of the array does not affect the original array"
   ]
  },
  {
   "cell_type": "markdown",
   "id": "deb70629-2e56-4f5e-ba16-5c703b5eff62",
   "metadata": {},
   "source": [
    "### Indexing a 2D array"
   ]
  },
  {
   "cell_type": "code",
   "execution_count": 73,
   "id": "ba5f2cd7-3fa9-4688-bd2e-260574b9996a",
   "metadata": {},
   "outputs": [],
   "source": [
    "arr_2d = np.array([[5,10,15],[20,25,30],[35,40,45]])"
   ]
  },
  {
   "cell_type": "code",
   "execution_count": 75,
   "id": "7ae92876-578a-4469-b343-c6161f4b4ea8",
   "metadata": {},
   "outputs": [
    {
     "data": {
      "text/plain": [
       "array([[ 5, 10, 15],\n",
       "       [20, 25, 30],\n",
       "       [35, 40, 45]])"
      ]
     },
     "execution_count": 75,
     "metadata": {},
     "output_type": "execute_result"
    }
   ],
   "source": [
    "arr_2d"
   ]
  },
  {
   "cell_type": "code",
   "execution_count": null,
   "id": "e7b6d444-f066-4819-b4b4-73e79700640f",
   "metadata": {},
   "outputs": [],
   "source": [
    "Getting Values from a 2D array can be done using double square brakets [][]"
   ]
  },
  {
   "cell_type": "code",
   "execution_count": 90,
   "id": "1b65f0dd-f445-447f-8349-3d044dd73c9e",
   "metadata": {},
   "outputs": [
    {
     "data": {
      "text/plain": [
       "40"
      ]
     },
     "execution_count": 90,
     "metadata": {},
     "output_type": "execute_result"
    }
   ],
   "source": [
    "arr_2d[2][1]"
   ]
  },
  {
   "cell_type": "markdown",
   "id": "1158d60c-1411-436c-be24-76c9e4c426f7",
   "metadata": {},
   "source": [
    "Getting these values can also be done using single square brakets [,] with a comma e.g [1.1]"
   ]
  },
  {
   "cell_type": "code",
   "execution_count": 100,
   "id": "19fe6ecd-c981-4cb9-8dda-014948dbf5cf",
   "metadata": {},
   "outputs": [
    {
     "data": {
      "text/plain": [
       "40"
      ]
     },
     "execution_count": 100,
     "metadata": {},
     "output_type": "execute_result"
    }
   ],
   "source": [
    "arr_2d[2,1]"
   ]
  },
  {
   "cell_type": "markdown",
   "id": "f794b986-77e1-43d9-893b-f84997804cff",
   "metadata": {},
   "source": [
    "If you want a section (Sub section) of elements as opposed to only one element, You can use slice notation"
   ]
  },
  {
   "cell_type": "code",
   "execution_count": 119,
   "id": "fe94cdf7-7b96-41ee-80b2-2c4c17012b5a",
   "metadata": {},
   "outputs": [
    {
     "data": {
      "text/plain": [
       "array([[15],\n",
       "       [30]])"
      ]
     },
     "execution_count": 119,
     "metadata": {},
     "output_type": "execute_result"
    }
   ],
   "source": [
    "arr_2d[:2,2:]"
   ]
  },
  {
   "cell_type": "markdown",
   "id": "5918e312-81e7-4087-9fd0-0011b74b25d9",
   "metadata": {},
   "source": [
    "Extra methods of selection"
   ]
  },
  {
   "cell_type": "code",
   "execution_count": 123,
   "id": "c617c7e1-ae2f-4914-abc2-bc5a2efe85f0",
   "metadata": {},
   "outputs": [],
   "source": [
    "arr_new= np.arange(1,11)"
   ]
  },
  {
   "cell_type": "code",
   "execution_count": 130,
   "id": "53333e1b-8a1c-4a1a-a02c-cafffaafdfe7",
   "metadata": {},
   "outputs": [
    {
     "data": {
      "text/plain": [
       "array([ 1,  2,  3,  4,  5,  6,  7,  8,  9, 10])"
      ]
     },
     "execution_count": 130,
     "metadata": {},
     "output_type": "execute_result"
    }
   ],
   "source": [
    "arr_new"
   ]
  },
  {
   "cell_type": "markdown",
   "id": "288b58eb-c415-47ec-a9c2-11aaec35a4cb",
   "metadata": {},
   "source": [
    "We can take the array above and combine it with comparison operators to get a full boolean out of"
   ]
  },
  {
   "cell_type": "code",
   "execution_count": 140,
   "id": "cbcb7934-77a7-4597-83c9-bdb691950213",
   "metadata": {},
   "outputs": [],
   "source": [
    "bool_arr_new=arr_new>5"
   ]
  },
  {
   "cell_type": "code",
   "execution_count": 142,
   "id": "f461a3cf-c021-4798-a88d-9ef159b27253",
   "metadata": {},
   "outputs": [
    {
     "data": {
      "text/plain": [
       "array([False, False, False, False, False,  True,  True,  True,  True,\n",
       "        True])"
      ]
     },
     "execution_count": 142,
     "metadata": {},
     "output_type": "execute_result"
    }
   ],
   "source": [
    "bool_arr_new"
   ]
  },
  {
   "cell_type": "markdown",
   "id": "201b081a-b90d-454c-bade-83282eeb5e93",
   "metadata": {},
   "source": [
    "To get only the values that are true in the array we can add the bool_arr_new in the square brakets"
   ]
  },
  {
   "cell_type": "code",
   "execution_count": 156,
   "id": "e9cad1b7-dc50-42f8-89e4-284798752bbe",
   "metadata": {},
   "outputs": [
    {
     "data": {
      "text/plain": [
       "array([ 6,  7,  8,  9, 10])"
      ]
     },
     "execution_count": 156,
     "metadata": {},
     "output_type": "execute_result"
    }
   ],
   "source": [
    "arr_new [bool_arr_new]"
   ]
  },
  {
   "cell_type": "markdown",
   "id": "9d546d42-f672-4676-a618-9716c035a764",
   "metadata": {},
   "source": [
    "The above can also be done in one go as opposed to the example above. See different exmple but similer answer below"
   ]
  },
  {
   "cell_type": "code",
   "execution_count": 164,
   "id": "b54e1014-4236-41fc-9238-11494967c59f",
   "metadata": {},
   "outputs": [
    {
     "data": {
      "text/plain": [
       "array([ 6,  7,  8,  9, 10])"
      ]
     },
     "execution_count": 164,
     "metadata": {},
     "output_type": "execute_result"
    }
   ],
   "source": [
    "arr_new[arr_new>5]"
   ]
  },
  {
   "cell_type": "markdown",
   "id": "2633110c-c9ae-4ebe-8c62-5b333aa58693",
   "metadata": {},
   "source": [
    "Now for example we want all the elements in the array \"arr_new\" that are less then 5"
   ]
  },
  {
   "cell_type": "code",
   "execution_count": 170,
   "id": "7d818bee-4089-42fa-8af8-04642d3398f7",
   "metadata": {},
   "outputs": [
    {
     "data": {
      "text/plain": [
       "array([1, 2])"
      ]
     },
     "execution_count": 170,
     "metadata": {},
     "output_type": "execute_result"
    }
   ],
   "source": [
    "arr_new[arr_new<3]"
   ]
  },
  {
   "cell_type": "code",
   "execution_count": null,
   "id": "2983a586-f54c-4148-8a5b-5e83500fbf35",
   "metadata": {},
   "outputs": [],
   "source": []
  },
  {
   "cell_type": "code",
   "execution_count": 179,
   "id": "b41bf191-ebcb-4ec8-a2f6-cc927c6f7654",
   "metadata": {},
   "outputs": [],
   "source": [
    "arr_2d1 = np.arange(50).reshape(5,10)"
   ]
  },
  {
   "cell_type": "code",
   "execution_count": 181,
   "id": "8c744a0e-1b2a-4f32-81ec-8b61f28d3fb4",
   "metadata": {},
   "outputs": [
    {
     "data": {
      "text/plain": [
       "array([[ 0,  1,  2,  3,  4,  5,  6,  7,  8,  9],\n",
       "       [10, 11, 12, 13, 14, 15, 16, 17, 18, 19],\n",
       "       [20, 21, 22, 23, 24, 25, 26, 27, 28, 29],\n",
       "       [30, 31, 32, 33, 34, 35, 36, 37, 38, 39],\n",
       "       [40, 41, 42, 43, 44, 45, 46, 47, 48, 49]])"
      ]
     },
     "execution_count": 181,
     "metadata": {},
     "output_type": "execute_result"
    }
   ],
   "source": [
    "arr_2d1"
   ]
  },
  {
   "cell_type": "code",
   "execution_count": null,
   "id": "c70ad0e5-e1a8-4f67-89e4-b6844752ccc3",
   "metadata": {},
   "outputs": [],
   "source": []
  },
  {
   "cell_type": "code",
   "execution_count": 210,
   "id": "2991367a-15c3-4725-a456-336eadf3d9e5",
   "metadata": {},
   "outputs": [
    {
     "data": {
      "text/plain": [
       "array([[31, 32],\n",
       "       [41, 42]])"
      ]
     },
     "execution_count": 210,
     "metadata": {},
     "output_type": "execute_result"
    }
   ],
   "source": [
    "arr_2d1[3:5,1:3]"
   ]
  },
  {
   "cell_type": "code",
   "execution_count": null,
   "id": "6e87c85d-b7b3-4e89-b9b8-dd09b29e6ac5",
   "metadata": {},
   "outputs": [],
   "source": []
  }
 ],
 "metadata": {
  "kernelspec": {
   "display_name": "Python [conda env:base] *",
   "language": "python",
   "name": "conda-base-py"
  },
  "language_info": {
   "codemirror_mode": {
    "name": "ipython",
    "version": 3
   },
   "file_extension": ".py",
   "mimetype": "text/x-python",
   "name": "python",
   "nbconvert_exporter": "python",
   "pygments_lexer": "ipython3",
   "version": "3.12.7"
  }
 },
 "nbformat": 4,
 "nbformat_minor": 5
}
