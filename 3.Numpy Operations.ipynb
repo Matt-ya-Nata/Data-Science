{
 "cells": [
  {
   "cell_type": "markdown",
   "id": "0d4e418d-45d9-4e97-8f9e-76d274f0615f",
   "metadata": {},
   "source": [
    "### Numpy Operations"
   ]
  },
  {
   "cell_type": "markdown",
   "id": "a56a7253-8898-4682-8098-ad437a66dbf2",
   "metadata": {},
   "source": [
    "- Array with Array\n",
    "- Array with Scalars\n",
    "- Universal Array Function"
   ]
  },
  {
   "cell_type": "code",
   "execution_count": 5,
   "id": "674d9a3c-f4ba-444e-8f29-5a7ca3bf59cc",
   "metadata": {},
   "outputs": [],
   "source": [
    "import numpy as np"
   ]
  },
  {
   "cell_type": "code",
   "execution_count": 7,
   "id": "993e69ea-dad4-44fb-93cd-0d5efebcedb8",
   "metadata": {},
   "outputs": [],
   "source": [
    "arr = np.arange(0,11)"
   ]
  },
  {
   "cell_type": "code",
   "execution_count": 9,
   "id": "a604cdf5-c882-42f9-b62a-83d55c0ab7ff",
   "metadata": {},
   "outputs": [
    {
     "data": {
      "text/plain": [
       "array([ 0,  1,  2,  3,  4,  5,  6,  7,  8,  9, 10])"
      ]
     },
     "execution_count": 9,
     "metadata": {},
     "output_type": "execute_result"
    }
   ],
   "source": [
    "arr"
   ]
  },
  {
   "cell_type": "markdown",
   "id": "fae96f1c-b240-4064-9462-2a28e4f0a240",
   "metadata": {},
   "source": [
    "We can easily perform array with array operations just by using simple operations sighns that we are alreay used to from python itself"
   ]
  },
  {
   "cell_type": "markdown",
   "id": "a5569a04-398e-49bc-b59a-958965dabc06",
   "metadata": {},
   "source": [
    "### For Example if you want to add two Arrays \n",
    "Given that we have created an array arr above we can add two arrays (arr) like below"
   ]
  },
  {
   "cell_type": "code",
   "execution_count": 14,
   "id": "7f5db5c8-3021-43e7-866b-05b2ea8276b7",
   "metadata": {},
   "outputs": [
    {
     "data": {
      "text/plain": [
       "array([ 0,  2,  4,  6,  8, 10, 12, 14, 16, 18, 20])"
      ]
     },
     "execution_count": 14,
     "metadata": {},
     "output_type": "execute_result"
    }
   ],
   "source": [
    "arr + arr"
   ]
  },
  {
   "cell_type": "markdown",
   "id": "bcb673e0-275e-4734-97d1-425449070cd0",
   "metadata": {},
   "source": [
    "The same thing can be done for subtraction"
   ]
  },
  {
   "cell_type": "code",
   "execution_count": 17,
   "id": "8820035d-ef3b-40e7-80cf-faeacce1d4b2",
   "metadata": {},
   "outputs": [
    {
     "data": {
      "text/plain": [
       "array([0, 0, 0, 0, 0, 0, 0, 0, 0, 0, 0])"
      ]
     },
     "execution_count": 17,
     "metadata": {},
     "output_type": "execute_result"
    }
   ],
   "source": [
    "arr - arr"
   ]
  },
  {
   "cell_type": "markdown",
   "id": "1f83f2ee-39c8-44be-9d70-f452773af5f9",
   "metadata": {},
   "source": [
    "The same thing can also be done for multiplication"
   ]
  },
  {
   "cell_type": "code",
   "execution_count": 20,
   "id": "59397e47-1bbe-4152-8634-b4b37a164a4c",
   "metadata": {},
   "outputs": [
    {
     "data": {
      "text/plain": [
       "array([  0,   1,   4,   9,  16,  25,  36,  49,  64,  81, 100])"
      ]
     },
     "execution_count": 20,
     "metadata": {},
     "output_type": "execute_result"
    }
   ],
   "source": [
    "arr * arr"
   ]
  },
  {
   "cell_type": "markdown",
   "id": "29945c1a-db80-4e16-b533-bf50176a36c0",
   "metadata": {},
   "source": [
    "Arrays with scalar operations can also be performed in the same manner"
   ]
  },
  {
   "cell_type": "code",
   "execution_count": 23,
   "id": "aefc590a-44de-48c1-863d-bea6687a9308",
   "metadata": {},
   "outputs": [
    {
     "data": {
      "text/plain": [
       "array([ 0,  1,  2,  3,  4,  5,  6,  7,  8,  9, 10])"
      ]
     },
     "execution_count": 23,
     "metadata": {},
     "output_type": "execute_result"
    }
   ],
   "source": [
    "arr"
   ]
  },
  {
   "cell_type": "markdown",
   "id": "7b8dfc12-d45f-4ce1-aa26-1105b5352046",
   "metadata": {},
   "source": [
    "Lets say I wanted to add 20 to each number in the array above. That can be done as below."
   ]
  },
  {
   "cell_type": "code",
   "execution_count": 27,
   "id": "a915bca4-e856-4b13-82d9-348817fcc535",
   "metadata": {},
   "outputs": [
    {
     "data": {
      "text/plain": [
       "array([20, 21, 22, 23, 24, 25, 26, 27, 28, 29, 30])"
      ]
     },
     "execution_count": 27,
     "metadata": {},
     "output_type": "execute_result"
    }
   ],
   "source": [
    "arr + 20"
   ]
  },
  {
   "cell_type": "markdown",
   "id": "fe59a7a4-ac33-4ca9-b983-a171f985500d",
   "metadata": {},
   "source": [
    "Now this works exactly the same way for other operations with scalars such as Subtraction,multiplication, division etc"
   ]
  },
  {
   "cell_type": "code",
   "execution_count": 30,
   "id": "c89d631a-93f1-4369-bffe-ec13865f602a",
   "metadata": {},
   "outputs": [
    {
     "data": {
      "text/plain": [
       "array([-20, -19, -18, -17, -16, -15, -14, -13, -12, -11, -10])"
      ]
     },
     "execution_count": 30,
     "metadata": {},
     "output_type": "execute_result"
    }
   ],
   "source": [
    "arr - 20"
   ]
  },
  {
   "cell_type": "code",
   "execution_count": 32,
   "id": "dfc54386-c3d5-453c-9196-42a0b2567b8f",
   "metadata": {},
   "outputs": [
    {
     "data": {
      "text/plain": [
       "array([ 0,  5, 10, 15, 20, 25, 30, 35, 40, 45, 50])"
      ]
     },
     "execution_count": 32,
     "metadata": {},
     "output_type": "execute_result"
    }
   ],
   "source": [
    "arr * 5"
   ]
  },
  {
   "cell_type": "markdown",
   "id": "841848aa-b542-482a-9179-7df50daaba70",
   "metadata": {},
   "source": [
    "Unlike python that gives you an error when you divide 0 by 0 numpy does not give you an error but rather a warning message."
   ]
  },
  {
   "cell_type": "markdown",
   "id": "57ab4669-f71b-4a2d-b8ea-582ea341afb8",
   "metadata": {},
   "source": [
    "The example below the first elemet in the array is 0 and dividing 0/0 using numpy gives the warning message below and an answer of nan"
   ]
  },
  {
   "cell_type": "code",
   "execution_count": 42,
   "id": "f941ead0-4a5b-4dd6-a9b1-0aaa8672d108",
   "metadata": {},
   "outputs": [
    {
     "name": "stderr",
     "output_type": "stream",
     "text": [
      "C:\\Users\\Matt\\AppData\\Local\\Temp\\ipykernel_12400\\2811617162.py:1: RuntimeWarning: invalid value encountered in divide\n",
      "  arr / arr\n"
     ]
    },
    {
     "data": {
      "text/plain": [
       "array([nan,  1.,  1.,  1.,  1.,  1.,  1.,  1.,  1.,  1.,  1.])"
      ]
     },
     "execution_count": 42,
     "metadata": {},
     "output_type": "execute_result"
    }
   ],
   "source": [
    "arr / arr\n"
   ]
  },
  {
   "cell_type": "code",
   "execution_count": 47,
   "id": "f42d1357-9449-4b26-86b0-de147680c804",
   "metadata": {},
   "outputs": [
    {
     "ename": "ZeroDivisionError",
     "evalue": "division by zero",
     "output_type": "error",
     "traceback": [
      "\u001b[1;31m---------------------------------------------------------------------------\u001b[0m",
      "\u001b[1;31mZeroDivisionError\u001b[0m                         Traceback (most recent call last)",
      "Cell \u001b[1;32mIn[47], line 1\u001b[0m\n\u001b[1;32m----> 1\u001b[0m \u001b[38;5;241m1\u001b[39m\u001b[38;5;241m/\u001b[39m\u001b[38;5;241m0\u001b[39m\n",
      "\u001b[1;31mZeroDivisionError\u001b[0m: division by zero"
     ]
    }
   ],
   "source": [
    "1/0"
   ]
  },
  {
   "cell_type": "code",
   "execution_count": 49,
   "id": "9a4048d8-8298-4fcb-b19e-28a4d4eca2ea",
   "metadata": {},
   "outputs": [
    {
     "name": "stderr",
     "output_type": "stream",
     "text": [
      "C:\\Users\\Matt\\AppData\\Local\\Temp\\ipykernel_12400\\3942562399.py:1: RuntimeWarning: divide by zero encountered in divide\n",
      "  arr / 0\n",
      "C:\\Users\\Matt\\AppData\\Local\\Temp\\ipykernel_12400\\3942562399.py:1: RuntimeWarning: invalid value encountered in divide\n",
      "  arr / 0\n"
     ]
    },
    {
     "data": {
      "text/plain": [
       "array([nan, inf, inf, inf, inf, inf, inf, inf, inf, inf, inf])"
      ]
     },
     "execution_count": 49,
     "metadata": {},
     "output_type": "execute_result"
    }
   ],
   "source": [
    "arr / 0"
   ]
  },
  {
   "cell_type": "code",
   "execution_count": 53,
   "id": "02fd76d0-1664-4753-a7c7-e07c90cdcd21",
   "metadata": {},
   "outputs": [
    {
     "name": "stderr",
     "output_type": "stream",
     "text": [
      "C:\\Users\\Matt\\AppData\\Local\\Temp\\ipykernel_12400\\1528351372.py:1: RuntimeWarning: divide by zero encountered in divide\n",
      "  1 / arr\n"
     ]
    },
    {
     "data": {
      "text/plain": [
       "array([       inf, 1.        , 0.5       , 0.33333333, 0.25      ,\n",
       "       0.2       , 0.16666667, 0.14285714, 0.125     , 0.11111111,\n",
       "       0.1       ])"
      ]
     },
     "execution_count": 53,
     "metadata": {},
     "output_type": "execute_result"
    }
   ],
   "source": [
    "1 / arr"
   ]
  },
  {
   "cell_type": "markdown",
   "id": "d8cd5a35-2d90-446e-9806-0d23a23c62cb",
   "metadata": {},
   "source": [
    "### Exponants on Arrays"
   ]
  },
  {
   "cell_type": "code",
   "execution_count": 57,
   "id": "fda8f65e-01be-4a49-8e70-198e8d6d58e9",
   "metadata": {},
   "outputs": [
    {
     "data": {
      "text/plain": [
       "array([  0,   1,   4,   9,  16,  25,  36,  49,  64,  81, 100])"
      ]
     },
     "execution_count": 57,
     "metadata": {},
     "output_type": "execute_result"
    }
   ],
   "source": [
    "arr ** 2"
   ]
  },
  {
   "cell_type": "markdown",
   "id": "79bb6459-9758-4fe4-a7f8-a6eb566fbbce",
   "metadata": {},
   "source": [
    "### Universal Array Function"
   ]
  },
  {
   "cell_type": "markdown",
   "id": "4885dab8-f297-4081-a4b0-cf9dd74a267f",
   "metadata": {},
   "source": [
    "- The Square root of all elements in an array. # np.sqrt()\n",
    "- Calculating the exponantial # np.exp()\n",
    "- Maximum # np.max()\n",
    "- Trigonometirc functions\n",
    "  - np.sin()\n",
    "  - np.log()\n",
    "    \n"
   ]
  },
  {
   "cell_type": "code",
   "execution_count": 62,
   "id": "16929e5a-6609-451f-95c7-9634a67c036a",
   "metadata": {},
   "outputs": [
    {
     "data": {
      "text/plain": [
       "array([0.        , 1.        , 1.41421356, 1.73205081, 2.        ,\n",
       "       2.23606798, 2.44948974, 2.64575131, 2.82842712, 3.        ,\n",
       "       3.16227766])"
      ]
     },
     "execution_count": 62,
     "metadata": {},
     "output_type": "execute_result"
    }
   ],
   "source": [
    "np.sqrt(arr)"
   ]
  },
  {
   "cell_type": "code",
   "execution_count": 67,
   "id": "8a68083f-4ff9-4825-82ad-b01dc847513d",
   "metadata": {},
   "outputs": [
    {
     "data": {
      "text/plain": [
       "array([1.00000000e+00, 2.71828183e+00, 7.38905610e+00, 2.00855369e+01,\n",
       "       5.45981500e+01, 1.48413159e+02, 4.03428793e+02, 1.09663316e+03,\n",
       "       2.98095799e+03, 8.10308393e+03, 2.20264658e+04])"
      ]
     },
     "execution_count": 67,
     "metadata": {},
     "output_type": "execute_result"
    }
   ],
   "source": [
    "np.exp(arr)"
   ]
  },
  {
   "cell_type": "code",
   "execution_count": 71,
   "id": "e46737af-c1c1-4ad9-a2dd-623dbb24995c",
   "metadata": {},
   "outputs": [
    {
     "data": {
      "text/plain": [
       "array([ 0.        ,  0.84147098,  0.90929743,  0.14112001, -0.7568025 ,\n",
       "       -0.95892427, -0.2794155 ,  0.6569866 ,  0.98935825,  0.41211849,\n",
       "       -0.54402111])"
      ]
     },
     "execution_count": 71,
     "metadata": {},
     "output_type": "execute_result"
    }
   ],
   "source": [
    "np.sin(arr)"
   ]
  },
  {
   "cell_type": "code",
   "execution_count": 75,
   "id": "1d0e1a4f-b8f0-4c10-a020-f8dd7d8ba54f",
   "metadata": {},
   "outputs": [
    {
     "data": {
      "text/plain": [
       "array([ 0.        ,  0.84147098,  0.90929743,  0.14112001, -0.7568025 ,\n",
       "       -0.95892427, -0.2794155 ,  0.6569866 ,  0.98935825,  0.41211849,\n",
       "       -0.54402111])"
      ]
     },
     "execution_count": 75,
     "metadata": {},
     "output_type": "execute_result"
    }
   ],
   "source": [
    "np.sin(arr)"
   ]
  },
  {
   "cell_type": "code",
   "execution_count": 77,
   "id": "bacf486b-e684-4961-87c0-955b7cbf0663",
   "metadata": {},
   "outputs": [
    {
     "name": "stderr",
     "output_type": "stream",
     "text": [
      "C:\\Users\\Matt\\AppData\\Local\\Temp\\ipykernel_12400\\3120950136.py:1: RuntimeWarning: divide by zero encountered in log\n",
      "  np.log(arr)\n"
     ]
    },
    {
     "data": {
      "text/plain": [
       "array([      -inf, 0.        , 0.69314718, 1.09861229, 1.38629436,\n",
       "       1.60943791, 1.79175947, 1.94591015, 2.07944154, 2.19722458,\n",
       "       2.30258509])"
      ]
     },
     "execution_count": 77,
     "metadata": {},
     "output_type": "execute_result"
    }
   ],
   "source": [
    "np.log(arr)"
   ]
  },
  {
   "cell_type": "code",
   "execution_count": null,
   "id": "0849c65f-59ff-4a46-b172-ce17044d1a7c",
   "metadata": {},
   "outputs": [],
   "source": []
  }
 ],
 "metadata": {
  "kernelspec": {
   "display_name": "Python [conda env:base] *",
   "language": "python",
   "name": "conda-base-py"
  },
  "language_info": {
   "codemirror_mode": {
    "name": "ipython",
    "version": 3
   },
   "file_extension": ".py",
   "mimetype": "text/x-python",
   "name": "python",
   "nbconvert_exporter": "python",
   "pygments_lexer": "ipython3",
   "version": "3.12.7"
  }
 },
 "nbformat": 4,
 "nbformat_minor": 5
}
