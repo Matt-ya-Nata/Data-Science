{
 "cells": [
  {
   "cell_type": "markdown",
   "id": "98baf946-8519-471b-b190-89e88e7735ee",
   "metadata": {},
   "source": [
    "### Numpy Arrays\n",
    "There two types, the first one is the vectors(1dimentional) the other is the matrices (2 Dimentional)"
   ]
  },
  {
   "cell_type": "markdown",
   "id": "000a8969-cc26-4eac-8111-ff734dfe5cc6",
   "metadata": {},
   "source": [
    "Installing numpy"
   ]
  },
  {
   "cell_type": "code",
   "execution_count": 20,
   "id": "314cd2e6-0eb6-4460-b39b-c5455e5e038d",
   "metadata": {},
   "outputs": [
    {
     "name": "stdout",
     "output_type": "stream",
     "text": [
      "Requirement already satisfied: numpy in c:\\users\\matt\\anaconda3\\lib\\site-packages (1.26.4)\n"
     ]
    }
   ],
   "source": [
    "!pip install numpy"
   ]
  },
  {
   "cell_type": "markdown",
   "id": "cdbff3e6-a8d3-46cc-8964-8a866f71506d",
   "metadata": {},
   "source": [
    "### Using Numpy"
   ]
  },
  {
   "cell_type": "code",
   "execution_count": 29,
   "id": "910a8b06-1ddb-4bb4-a491-7400b724adfd",
   "metadata": {},
   "outputs": [],
   "source": [
    "import numpy as np"
   ]
  },
  {
   "cell_type": "code",
   "execution_count": 7,
   "id": "5f51233e-a896-4fc4-ac15-7f3e08d3559c",
   "metadata": {},
   "outputs": [],
   "source": [
    "my_list =[1,2,3]"
   ]
  },
  {
   "cell_type": "markdown",
   "id": "34dbf788-f170-4c2e-8a05-c263c5571255",
   "metadata": {},
   "source": [
    "### Casting a normal list to an array"
   ]
  },
  {
   "cell_type": "code",
   "execution_count": 33,
   "id": "fcb9b0f3-0a89-4b57-b7d4-d416d68ceb34",
   "metadata": {},
   "outputs": [
    {
     "data": {
      "text/plain": [
       "[1, 2, 3]"
      ]
     },
     "execution_count": 33,
     "metadata": {},
     "output_type": "execute_result"
    }
   ],
   "source": [
    "my_list"
   ]
  },
  {
   "cell_type": "code",
   "execution_count": 35,
   "id": "344ddea0-ad04-4f9c-8891-f573683d7e23",
   "metadata": {},
   "outputs": [],
   "source": [
    "arr = np.array(my_list)"
   ]
  },
  {
   "cell_type": "code",
   "execution_count": 37,
   "id": "e35310ae-790e-4d62-8807-f9bd8d567ec9",
   "metadata": {},
   "outputs": [
    {
     "data": {
      "text/plain": [
       "array([1, 2, 3])"
      ]
     },
     "execution_count": 37,
     "metadata": {},
     "output_type": "execute_result"
    }
   ],
   "source": [
    "arr"
   ]
  },
  {
   "cell_type": "markdown",
   "id": "6cb45fc5-997b-40a2-8599-9697d63c8f7d",
   "metadata": {},
   "source": [
    "### Two Dimentional Array"
   ]
  },
  {
   "cell_type": "code",
   "execution_count": 41,
   "id": "644ffd4a-a9cc-4fa7-909b-7964ee4108f9",
   "metadata": {},
   "outputs": [],
   "source": [
    "my_mat =[[1,2,3,],[4,5,6],[7,8,9]]"
   ]
  },
  {
   "cell_type": "code",
   "execution_count": 43,
   "id": "b9e410e7-4110-4bff-94ff-b69d72d038a5",
   "metadata": {},
   "outputs": [
    {
     "data": {
      "text/plain": [
       "[[1, 2, 3], [4, 5, 6], [7, 8, 9]]"
      ]
     },
     "execution_count": 43,
     "metadata": {},
     "output_type": "execute_result"
    }
   ],
   "source": [
    "my_mat"
   ]
  },
  {
   "cell_type": "code",
   "execution_count": 45,
   "id": "c346895e-190a-48ea-a656-e3cd2b3441b2",
   "metadata": {},
   "outputs": [
    {
     "data": {
      "text/plain": [
       "array([[1, 2, 3],\n",
       "       [4, 5, 6],\n",
       "       [7, 8, 9]])"
      ]
     },
     "execution_count": 45,
     "metadata": {},
     "output_type": "execute_result"
    }
   ],
   "source": [
    "np.array(my_mat)"
   ]
  },
  {
   "cell_type": "code",
   "execution_count": 53,
   "id": "22e3c9e8-ddfc-4033-a9c3-3b7d4805088b",
   "metadata": {},
   "outputs": [
    {
     "data": {
      "text/plain": [
       "array([ 0,  2,  4,  6,  8, 10])"
      ]
     },
     "execution_count": 53,
     "metadata": {},
     "output_type": "execute_result"
    }
   ],
   "source": [
    "np.arange(0,11,2)"
   ]
  },
  {
   "cell_type": "markdown",
   "id": "7a32d8eb-3146-4f7b-b629-373d964d7921",
   "metadata": {},
   "source": [
    "Generating an array of all zeros"
   ]
  },
  {
   "cell_type": "code",
   "execution_count": 60,
   "id": "82254688-6665-4359-b992-6f6f48ac1a7d",
   "metadata": {},
   "outputs": [
    {
     "data": {
      "text/plain": [
       "array([0., 0., 0., 0., 0.])"
      ]
     },
     "execution_count": 60,
     "metadata": {},
     "output_type": "execute_result"
    }
   ],
   "source": [
    "np.zeros(5)"
   ]
  },
  {
   "cell_type": "code",
   "execution_count": 68,
   "id": "3c834180-4636-4eec-b067-2400516228ea",
   "metadata": {},
   "outputs": [
    {
     "data": {
      "text/plain": [
       "array([[0., 0.],\n",
       "       [0., 0.]])"
      ]
     },
     "execution_count": 68,
     "metadata": {},
     "output_type": "execute_result"
    }
   ],
   "source": [
    "np.zeros((2,2))"
   ]
  },
  {
   "cell_type": "markdown",
   "id": "b134ef28-f9ab-447d-98b7-b774772d6d9f",
   "metadata": {},
   "source": [
    "The same can be done for 1nes "
   ]
  },
  {
   "cell_type": "code",
   "execution_count": 73,
   "id": "9caa2734-9e8b-4ae1-8dfb-a8737ddc54f9",
   "metadata": {},
   "outputs": [
    {
     "data": {
      "text/plain": [
       "array([1., 1., 1., 1., 1.])"
      ]
     },
     "execution_count": 73,
     "metadata": {},
     "output_type": "execute_result"
    }
   ],
   "source": [
    "np.ones(5)"
   ]
  },
  {
   "cell_type": "code",
   "execution_count": 77,
   "id": "033f247a-88e0-41d7-af07-a5c632f55054",
   "metadata": {},
   "outputs": [
    {
     "data": {
      "text/plain": [
       "array([[1., 1., 1., 1., 1.],\n",
       "       [1., 1., 1., 1., 1.],\n",
       "       [1., 1., 1., 1., 1.],\n",
       "       [1., 1., 1., 1., 1.],\n",
       "       [1., 1., 1., 1., 1.]])"
      ]
     },
     "execution_count": 77,
     "metadata": {},
     "output_type": "execute_result"
    }
   ],
   "source": [
    "np.ones((5,5))"
   ]
  },
  {
   "cell_type": "code",
   "execution_count": 83,
   "id": "e9f005fe-0705-4a9c-9ebc-ceadc4a3e378",
   "metadata": {},
   "outputs": [
    {
     "data": {
      "text/plain": [
       "array([0.  , 1.25, 2.5 , 3.75, 5.  ])"
      ]
     },
     "execution_count": 83,
     "metadata": {},
     "output_type": "execute_result"
    }
   ],
   "source": [
    "np.linspace(0,5,5)"
   ]
  },
  {
   "cell_type": "markdown",
   "id": "f2ff2923-8583-4368-a7be-fbb92097ed68",
   "metadata": {},
   "source": [
    "Creating an Identity Matrix"
   ]
  },
  {
   "cell_type": "code",
   "execution_count": 94,
   "id": "976cf25c-7d58-43c6-8306-a640dcee42ab",
   "metadata": {},
   "outputs": [
    {
     "data": {
      "text/plain": [
       "array([[1., 0., 0.],\n",
       "       [0., 1., 0.],\n",
       "       [0., 0., 1.]])"
      ]
     },
     "execution_count": 94,
     "metadata": {},
     "output_type": "execute_result"
    }
   ],
   "source": [
    "np.eye(3)"
   ]
  },
  {
   "cell_type": "markdown",
   "id": "9d4b2ead-f886-4e43-bf00-3487406e334f",
   "metadata": {},
   "source": [
    "Creating Random numbers from 0 to 1"
   ]
  },
  {
   "cell_type": "code",
   "execution_count": 109,
   "id": "d54b47d7-ddd5-4f32-8366-0687a8384920",
   "metadata": {},
   "outputs": [
    {
     "data": {
      "text/plain": [
       "array([0.56584342, 0.03503675, 0.23794128])"
      ]
     },
     "execution_count": 109,
     "metadata": {},
     "output_type": "execute_result"
    }
   ],
   "source": [
    "np.random.rand(3)"
   ]
  },
  {
   "cell_type": "code",
   "execution_count": 121,
   "id": "d6c1f3b6-5cee-43c5-a99d-3ac2f9e339c3",
   "metadata": {},
   "outputs": [
    {
     "data": {
      "text/plain": [
       "array([[0.82828497, 0.62131219, 0.54764323],\n",
       "       [0.37592476, 0.08344493, 0.01919597],\n",
       "       [0.45538461, 0.05997063, 0.87843968]])"
      ]
     },
     "execution_count": 121,
     "metadata": {},
     "output_type": "execute_result"
    }
   ],
   "source": [
    "np.random.rand(3,3)"
   ]
  },
  {
   "cell_type": "markdown",
   "id": "665f0aec-14f5-4aae-a25b-cf62e677c2e1",
   "metadata": {},
   "source": [
    "Creating Random numbers from 0 to n"
   ]
  },
  {
   "cell_type": "code",
   "execution_count": 124,
   "id": "c79ce890-4238-4e27-aa75-7711584201c3",
   "metadata": {},
   "outputs": [
    {
     "data": {
      "text/plain": [
       "array([-0.17707054, -0.83008892])"
      ]
     },
     "execution_count": 124,
     "metadata": {},
     "output_type": "execute_result"
    }
   ],
   "source": [
    "np.random.randn(2)"
   ]
  },
  {
   "cell_type": "code",
   "execution_count": 126,
   "id": "823251a4-bf41-4e38-b2d5-429906f979df",
   "metadata": {},
   "outputs": [
    {
     "data": {
      "text/plain": [
       "array([[ 0.44051872,  0.40663975],\n",
       "       [-1.27038476,  0.67701851]])"
      ]
     },
     "execution_count": 126,
     "metadata": {},
     "output_type": "execute_result"
    }
   ],
   "source": [
    "np.random.randn(2,2)"
   ]
  },
  {
   "cell_type": "markdown",
   "id": "0cc63e44-3424-4ec2-82e6-066b6f9c4824",
   "metadata": {},
   "source": [
    "Creating Random numbers from n to n"
   ]
  },
  {
   "cell_type": "code",
   "execution_count": 134,
   "id": "e687ad5c-5611-40a0-8377-f12e7f7a1ded",
   "metadata": {},
   "outputs": [
    {
     "data": {
      "text/plain": [
       "64"
      ]
     },
     "execution_count": 134,
     "metadata": {},
     "output_type": "execute_result"
    }
   ],
   "source": [
    "np.random.randint(1,100)"
   ]
  },
  {
   "cell_type": "markdown",
   "id": "20fd5b95-3f7e-4b76-b95c-29a4df94ee1c",
   "metadata": {},
   "source": [
    "If for example you need 5 random integers between 1 and 100 (1 inclusive but 100 excluded):"
   ]
  },
  {
   "cell_type": "code",
   "execution_count": 141,
   "id": "0d1efdf4-e1e1-41d1-8e4c-e4148ce731c2",
   "metadata": {},
   "outputs": [
    {
     "data": {
      "text/plain": [
       "array([28, 16, 63, 97,  6])"
      ]
     },
     "execution_count": 141,
     "metadata": {},
     "output_type": "execute_result"
    }
   ],
   "source": [
    "np.random.randint(1,100,5)"
   ]
  },
  {
   "cell_type": "code",
   "execution_count": null,
   "id": "2d511f52-8841-4793-91b5-df5ce8a38173",
   "metadata": {},
   "outputs": [],
   "source": []
  },
  {
   "cell_type": "code",
   "execution_count": 144,
   "id": "febb0c0c-04b9-4168-8550-05d6e499df45",
   "metadata": {},
   "outputs": [],
   "source": [
    "arr = np.arange(25)"
   ]
  },
  {
   "cell_type": "code",
   "execution_count": 146,
   "id": "0d5d5545-df28-4622-8b13-0e9b79ca16aa",
   "metadata": {},
   "outputs": [
    {
     "data": {
      "text/plain": [
       "array([ 0,  1,  2,  3,  4,  5,  6,  7,  8,  9, 10, 11, 12, 13, 14, 15, 16,\n",
       "       17, 18, 19, 20, 21, 22, 23, 24])"
      ]
     },
     "execution_count": 146,
     "metadata": {},
     "output_type": "execute_result"
    }
   ],
   "source": [
    "arr"
   ]
  },
  {
   "cell_type": "code",
   "execution_count": 148,
   "id": "1b5b3893-8284-4f0a-b6ea-ce22379ce56e",
   "metadata": {},
   "outputs": [],
   "source": [
    "ranarr = np.random.randint(0,50,10)"
   ]
  },
  {
   "cell_type": "code",
   "execution_count": 150,
   "id": "757c4145-0acb-46fa-9eb5-64751ea96474",
   "metadata": {},
   "outputs": [
    {
     "data": {
      "text/plain": [
       "array([22,  6, 18,  3, 10, 10, 16, 40, 22, 35])"
      ]
     },
     "execution_count": 150,
     "metadata": {},
     "output_type": "execute_result"
    }
   ],
   "source": [
    "ranarr"
   ]
  },
  {
   "cell_type": "markdown",
   "id": "5e3f22b8-e110-412d-a3d3-2bfe500aab9e",
   "metadata": {},
   "source": [
    "### Reshape method:\n",
    "make sure the number of rows times the number of colums equals the digits you have RXC=Number of elements"
   ]
  },
  {
   "cell_type": "code",
   "execution_count": 160,
   "id": "d7d13e58-0887-4040-9c9c-76df96f706ca",
   "metadata": {},
   "outputs": [
    {
     "data": {
      "text/plain": [
       "array([[ 0,  1,  2,  3,  4],\n",
       "       [ 5,  6,  7,  8,  9],\n",
       "       [10, 11, 12, 13, 14],\n",
       "       [15, 16, 17, 18, 19],\n",
       "       [20, 21, 22, 23, 24]])"
      ]
     },
     "execution_count": 160,
     "metadata": {},
     "output_type": "execute_result"
    }
   ],
   "source": [
    "arr.reshape(5,5)"
   ]
  },
  {
   "cell_type": "code",
   "execution_count": 166,
   "id": "7bdaf9aa-c891-460c-8c7d-02aabd11c24a",
   "metadata": {},
   "outputs": [
    {
     "data": {
      "text/plain": [
       "40"
      ]
     },
     "execution_count": 166,
     "metadata": {},
     "output_type": "execute_result"
    }
   ],
   "source": [
    "ranarr.max()"
   ]
  },
  {
   "cell_type": "code",
   "execution_count": 175,
   "id": "725b895d-6d0f-49d8-8930-3723098f3c48",
   "metadata": {},
   "outputs": [
    {
     "data": {
      "text/plain": [
       "array([22,  6, 18,  3, 10, 10, 16, 40, 22, 35])"
      ]
     },
     "execution_count": 175,
     "metadata": {},
     "output_type": "execute_result"
    }
   ],
   "source": [
    "ranarr"
   ]
  },
  {
   "cell_type": "code",
   "execution_count": 177,
   "id": "1805acb4-64c5-4c89-9eb2-6c2b26ff5b66",
   "metadata": {},
   "outputs": [
    {
     "data": {
      "text/plain": [
       "7"
      ]
     },
     "execution_count": 177,
     "metadata": {},
     "output_type": "execute_result"
    }
   ],
   "source": [
    "ranarr.argmax()"
   ]
  },
  {
   "cell_type": "code",
   "execution_count": 179,
   "id": "cce38893-1e9f-4b87-b706-20f364b71ee5",
   "metadata": {},
   "outputs": [
    {
     "data": {
      "text/plain": [
       "array([ 0,  1,  2,  3,  4,  5,  6,  7,  8,  9, 10, 11, 12, 13, 14, 15, 16,\n",
       "       17, 18, 19, 20, 21, 22, 23, 24])"
      ]
     },
     "execution_count": 179,
     "metadata": {},
     "output_type": "execute_result"
    }
   ],
   "source": [
    "arr"
   ]
  },
  {
   "cell_type": "code",
   "execution_count": 181,
   "id": "f0496594-ec26-4091-8af0-1f169f3502a6",
   "metadata": {},
   "outputs": [
    {
     "data": {
      "text/plain": [
       "(25,)"
      ]
     },
     "execution_count": 181,
     "metadata": {},
     "output_type": "execute_result"
    }
   ],
   "source": [
    "arr.shape"
   ]
  },
  {
   "cell_type": "code",
   "execution_count": 192,
   "id": "adbaf503-b0b2-48b3-a70f-0843b44bba9f",
   "metadata": {},
   "outputs": [
    {
     "data": {
      "text/plain": [
       "dtype('int32')"
      ]
     },
     "execution_count": 192,
     "metadata": {},
     "output_type": "execute_result"
    }
   ],
   "source": [
    "arr.dtype"
   ]
  },
  {
   "cell_type": "code",
   "execution_count": 194,
   "id": "f266f082-49f3-4e56-a0b7-72759b8ffd95",
   "metadata": {},
   "outputs": [],
   "source": [
    "from numpy.random import randint"
   ]
  },
  {
   "cell_type": "code",
   "execution_count": 196,
   "id": "5db197c4-5fa8-4d9e-b53f-56321415680f",
   "metadata": {},
   "outputs": [
    {
     "data": {
      "text/plain": [
       "8"
      ]
     },
     "execution_count": 196,
     "metadata": {},
     "output_type": "execute_result"
    }
   ],
   "source": [
    "randint(2,10)"
   ]
  },
  {
   "cell_type": "raw",
   "id": "daabfa7a-1ea3-4aba-af9f-96e65d4fc685",
   "metadata": {},
   "source": []
  }
 ],
 "metadata": {
  "kernelspec": {
   "display_name": "Python [conda env:base] *",
   "language": "python",
   "name": "conda-base-py"
  },
  "language_info": {
   "codemirror_mode": {
    "name": "ipython",
    "version": 3
   },
   "file_extension": ".py",
   "mimetype": "text/x-python",
   "name": "python",
   "nbconvert_exporter": "python",
   "pygments_lexer": "ipython3",
   "version": "3.12.7"
  }
 },
 "nbformat": 4,
 "nbformat_minor": 5
}
